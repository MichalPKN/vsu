{
 "cells": [
  {
   "cell_type": "markdown",
   "metadata": {},
   "source": [
    "# Demonstrace metody LIME (část 1/3)\n",
    "\n",
    "V této ukázce natrénujeme jednoduchý klasifikátor, který bude klasifikovat příspěvky z diskuzních skupin o ateismu a o křesťanství na základě obsažených slov.\n",
    "K tomu využijeme knihovnu pro strojové učení [scikit-learn](https://scikit-learn.org).\n",
    "Následně použijeme metodu [LIME](https://github.com/marcotcr/lime) k vysvětlení predikcí natrénovaného klasifikátoru."
   ]
  },
  {
   "cell_type": "code",
   "execution_count": null,
   "metadata": {},
   "outputs": [],
   "source": [
    "import lime\n",
    "import sklearn\n",
    "import sklearn.ensemble\n",
    "import sklearn.metrics"
   ]
  },
  {
   "cell_type": "markdown",
   "metadata": {},
   "source": [
    "## Načtení dat a natrénování klasifikátoru"
   ]
  },
  {
   "cell_type": "markdown",
   "metadata": {},
   "source": [
    "Použijeme data z [20 newsgroups datasetu](https://scikit-learn.org/0.19/datasets/twenty_newsgroups.html), konkrétně diskuzní skupiny o ateismu a o křesťanství."
   ]
  },
  {
   "cell_type": "code",
   "execution_count": null,
   "metadata": {},
   "outputs": [],
   "source": [
    "from sklearn.datasets import fetch_20newsgroups\n",
    "categories = ['alt.atheism', 'soc.religion.christian']\n",
    "newsgroups_train = fetch_20newsgroups(subset='train', categories=categories)\n",
    "newsgroups_test = fetch_20newsgroups(subset='test', categories=categories)\n",
    "class_names = ['atheism', 'christianity']"
   ]
  },
  {
   "cell_type": "markdown",
   "metadata": {},
   "source": [
    "Prohlédněme si data:"
   ]
  },
  {
   "cell_type": "code",
   "execution_count": null,
   "metadata": {},
   "outputs": [],
   "source": [
    "from IPython.display import display, HTML\n",
    "import html\n",
    "\n",
    "# Pomocná funkce pro vypsání.\n",
    "def display_post(id):\n",
    "    display(HTML(f\"\"\"\n",
    "        <b>id: {html.escape(str(id))}</b><br>\n",
    "        <b>class: {html.escape(class_names[newsgroups_train.target[id]])}</b>\n",
    "        <pre>{html.escape(newsgroups_train.data[id])}</pre>\n",
    "        \"\"\"))"
   ]
  },
  {
   "cell_type": "code",
   "execution_count": null,
   "metadata": {},
   "outputs": [],
   "source": [
    "display_post(id=50)"
   ]
  },
  {
   "cell_type": "code",
   "execution_count": null,
   "metadata": {},
   "outputs": [],
   "source": [
    "display_post(id=100)"
   ]
  },
  {
   "cell_type": "markdown",
   "metadata": {},
   "source": [
    "Pro natrénování klasifikátoru je potřeba reprezentovat slova jako vektory. Zde použijeme metodu [term frequency–inverse document frequency](https://scikit-learn.org/stable/modules/feature_extraction.html#text-feature-extraction). Zjednodušeně řečeno, každé slovo reprezentujeme vektorem o délce počtu trénovacích příspěvků z diskuzních skupin, který pro každý trénovací příspěvek vyjadřuje, jak je v něm dotyčné slovo významné na základě četnosti."
   ]
  },
  {
   "cell_type": "code",
   "execution_count": null,
   "metadata": {},
   "outputs": [],
   "source": [
    "vectorizer = sklearn.feature_extraction.text.TfidfVectorizer(lowercase=True)\n",
    "train_vectors = vectorizer.fit_transform(newsgroups_train.data)\n",
    "test_vectors = vectorizer.transform(newsgroups_test.data)"
   ]
  },
  {
   "cell_type": "markdown",
   "metadata": {},
   "source": [
    "Natrénujeme [náhodné rozhodovací stromy](https://scikit-learn.org/stable/modules/ensemble.html)."
   ]
  },
  {
   "cell_type": "code",
   "execution_count": null,
   "metadata": {},
   "outputs": [],
   "source": [
    "classifier = sklearn.ensemble.RandomForestClassifier(n_estimators=500)\n",
    "classifier.fit(train_vectors, newsgroups_train.target)"
   ]
  },
  {
   "cell_type": "markdown",
   "metadata": {},
   "source": [
    "## Vyhodnocení klasifikátoru pomocí $F_1$ skóre\n",
    "\n",
    "$F_1$ skóre měří výkon klasifikátoru na testovacích datech a nabývá hodnot 0 až 1 (nejlepší). Jak vidíme níže, $F_1$ skóre natrénovaného klasifikátoru je velmi vysoké."
   ]
  },
  {
   "cell_type": "code",
   "execution_count": null,
   "metadata": {},
   "outputs": [],
   "source": [
    "pred = classifier.predict(test_vectors)\n",
    "f1_score = sklearn.metrics.f1_score(newsgroups_test.target, pred, average='binary')\n",
    "\n",
    "print(f\"F1 skóre: {f1_score}\")"
   ]
  },
  {
   "cell_type": "markdown",
   "metadata": {},
   "source": [
    "## Vysvětlení predikcí pomocí metody LIME"
   ]
  },
  {
   "cell_type": "markdown",
   "metadata": {},
   "source": [
    "Vysvětlení vytváří instance `LimeTextExplainer`."
   ]
  },
  {
   "cell_type": "code",
   "execution_count": null,
   "metadata": {},
   "outputs": [],
   "source": [
    "from lime.lime_text import LimeTextExplainer\n",
    "explainer = LimeTextExplainer(class_names=class_names)"
   ]
  },
  {
   "cell_type": "markdown",
   "metadata": {},
   "source": [
    "`LimeTextExplainer` funguje s jakýmkoliv klasifikátorem, který implementuje metodu s výstupem obdobným `predict_proba`. Jako vstup klasifikátoru ale přepokládá text a nikoliv vektory. Za tímto účelem lze využít pomocnou `pipeline`."
   ]
  },
  {
   "cell_type": "code",
   "execution_count": null,
   "metadata": {},
   "outputs": [],
   "source": [
    "from sklearn.pipeline import make_pipeline\n",
    "raw_text_classifier = make_pipeline(vectorizer, classifier)\n",
    "\n",
    "# Jen pro demonstraci výstupu.\n",
    "print(raw_text_classifier.predict_proba([newsgroups_test.data[0]]))"
   ]
  },
  {
   "cell_type": "markdown",
   "metadata": {},
   "source": [
    "Zvolíme libovolný příspěvek. Podíváme se, jak je klasifikován naším modelem."
   ]
  },
  {
   "cell_type": "code",
   "execution_count": null,
   "metadata": {},
   "outputs": [],
   "source": [
    "idx = 83 # Zvolený příspěvek.\n",
    "probs = raw_text_classifier.predict_proba([newsgroups_test.data[idx]])\n",
    "print(f\"Pravděpodobnost: ({class_names[0]}) = {probs[0, 0]}\")\n",
    "print(f\"Pravděpodobnost: ({class_names[1]}) = {probs[0, 1]}\")\n",
    "print(f\"Skutečná třída: {class_names[newsgroups_test.target[idx]]}\")"
   ]
  },
  {
   "cell_type": "markdown",
   "metadata": {},
   "source": [
    "Příspěvek je klasifikován správně.\n",
    "\n",
    "Nyní zkusíme vygenerovat vysvětlení predikce tohoto příspěvku. Maximální počet příznaků ve vysvětlení omezíme na 10.\n",
    "\n",
    "Pozn.: Níže použitá metoda `show_in_notebook` je jen jednou z možností, jak získat či vizualizovat vysvětlení."
   ]
  },
  {
   "cell_type": "code",
   "execution_count": null,
   "metadata": {},
   "outputs": [],
   "source": [
    "explanation = explainer.explain_instance(newsgroups_test.data[idx], raw_text_classifier.predict_proba, num_features=10)\n",
    "explanation.show_in_notebook(text=True)"
   ]
  },
  {
   "cell_type": "markdown",
   "metadata": {},
   "source": [
    "Metoda LIME se naučí lineární model aproximující náš klasifikátor v okolí predikovaného příspěvku. Graf ve druhém sloupci zobrazuje váhy tohoto modelu pro jednotlivá slova. Za předpokladu linearity klasifikátoru by odstranění všech výskytů slov \"NNTP\" a \"Host\" mělo snížit pravděpodobnost třídy \"atheism\" o součet jejich vah. Podívejme se na výstup klasifikátoru pro takto upravený příspěvek."
   ]
  },
  {
   "cell_type": "code",
   "execution_count": null,
   "metadata": {},
   "outputs": [],
   "source": [
    "tmp = test_vectors[idx].copy()\n",
    "tmp[0, vectorizer.vocabulary_['nntp']] = 0\n",
    "tmp[0, vectorizer.vocabulary_['host']] = 0\n",
    "\n",
    "probs = raw_text_classifier.predict_proba([newsgroups_test.data[idx]])\n",
    "probs2 = classifier.predict_proba(tmp)\n",
    "d = {str(k): v for k, v in explanation.as_list()}\n",
    "print(f\"Původní pravděpodobnost: ({class_names[0]}) = {probs[0, 0]:0.2f}\")\n",
    "print(f\"Nová pravděpodobnost: ({class_names[0]}) = {probs2[0, 0]:0.2f}\")\n",
    "print(f\"Předpokládané snížení: {d['NNTP'] + d['Host']:0.2f}\")\n",
    "print(f\"Skutečně snížení: {probs2[0, 0] - probs[0, 0]:0.2f}\")\n",
    "print(f\"Skutečná třída: {class_names[newsgroups_test.target[idx]]}\")"
   ]
  },
  {
   "cell_type": "markdown",
   "metadata": {},
   "source": [
    "Skutečný model není lineární a snížení pravděpodobnosti tak pravděpodobně neodpovídá zcela předpokladu (záleží, jak se model natrénoval), ale je podobně významné."
   ]
  },
  {
   "cell_type": "markdown",
   "metadata": {},
   "source": [
    "### Vizualizace predikcí"
   ]
  },
  {
   "cell_type": "markdown",
   "metadata": {},
   "source": [
    "**Otázka:** Prohlédněte si vysvětlení predikcí (delší texty vyžadují skrolování v okénku textu). Rozpoznávač měl vysoké $F_1$ skóre, tedy na testovacích datech si vede velmi dobře. Zaměřuje se ale skutečně na slova týkající se klasifikovaných témat? Co lze zlepšit?"
   ]
  },
  {
   "cell_type": "code",
   "execution_count": null,
   "metadata": {},
   "outputs": [],
   "source": [
    "idx = 83\n",
    "explanation = explainer.explain_instance(newsgroups_test.data[idx], raw_text_classifier.predict_proba, num_features=10)\n",
    "print(f\"Skutečná třída: {class_names[newsgroups_test.target[idx]]}\")\n",
    "explanation.show_in_notebook(text=True)"
   ]
  },
  {
   "cell_type": "code",
   "execution_count": null,
   "metadata": {},
   "outputs": [],
   "source": [
    "idx = 50\n",
    "explanation = explainer.explain_instance(newsgroups_test.data[idx], raw_text_classifier.predict_proba, num_features=10)\n",
    "print(f\"Skutečná třída: {class_names[newsgroups_test.target[idx]]}\")\n",
    "explanation.show_in_notebook(text=True)"
   ]
  }
 ],
 "metadata": {
  "kernelspec": {
   "display_name": "Python 3 (ipykernel)",
   "language": "python",
   "name": "python3"
  },
  "language_info": {
   "codemirror_mode": {
    "name": "ipython",
    "version": 3
   },
   "file_extension": ".py",
   "mimetype": "text/x-python",
   "name": "python",
   "nbconvert_exporter": "python",
   "pygments_lexer": "ipython3",
   "version": "3.10.9"
  }
 },
 "nbformat": 4,
 "nbformat_minor": 1
}
